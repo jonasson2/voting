{
 "cells": [
  {
   "cell_type": "code",
   "execution_count": 2,
   "id": "54ab9912-9f10-4468-a375-04b0d541615f",
   "metadata": {
    "tags": []
   },
   "outputs": [
    {
     "data": {
      "text/plain": "(598, 598)"
     },
     "execution_count": 2,
     "metadata": {},
     "output_type": "execute_result"
    }
   ],
   "source": [
    "def read_data():\n",
    "    import pandas as pd, numpy as np\n",
    "    np.set_printoptions(linewidth=140)\n",
    "    file = \"~/dropbox/voting/germany-2021.xlsx\"\n",
    "    #file = \"prufa.xlsx\"\n",
    "    df = pd.read_excel(file, index_col=0)\n",
    "    votes = np.array(df.iloc[:-1, :-1])\n",
    "    land_seats = np.array(df.Total[:-1]).astype(int).tolist()\n",
    "    party_seats = np.array(df.loc[\"Total\"][:-1]).astype(int).tolist()\n",
    "    #display(df)\n",
    "    return (votes, land_seats, party_seats)\n",
    "\n",
    "(votes, land_seats, party_seats) = read_data()\n",
    "sum(party_seats), sum(land_seats)"
   ]
  },
  {
   "cell_type": "code",
   "execution_count": 3,
   "outputs": [
    {
     "data": {
      "text/plain": "([22, 13, 59, 5, 127, 43, 30, 77, 93, 7, 24, 20, 13, 32, 17, 16],\n [126, 168, 70, 77, 31, 95, 30, 1, 0])"
     },
     "execution_count": 3,
     "metadata": {},
     "output_type": "execute_result"
    }
   ],
   "source": [
    "land_seats, party_seats"
   ],
   "metadata": {
    "collapsed": false
   }
  },
  {
   "cell_type": "code",
   "execution_count": 4,
   "id": "b0691955-9984-48f4-ac1a-d3788744ec1c",
   "metadata": {},
   "outputs": [
    {
     "name": "stdout",
     "output_type": "stream",
     "text": [
      "Set parameter Username\n",
      "Academic license - for non-commercial use only - expires 2023-09-29\n"
     ]
    }
   ],
   "source": [
    "import numpy as np\n",
    "def gurobi_max(votes, const_seats, party_seats, div):\n",
    "    import gurobipy as gp\n",
    "    (NC, NP) = votes.shape\n",
    "    P = range(NP)\n",
    "    C = range(NC)\n",
    "    S = [range(const_seats[c]) for c in C]\n",
    "    m = gp.Model()\n",
    "    x = []\n",
    "    NP = len(party_seats)\n",
    "    for c in C:\n",
    "        x.append(m.addMVar((NP, const_seats[c]), vtype='B'))\n",
    "    n = m.addMVar(votes.shape, vtype=gp.GRB.INTEGER)\n",
    "    m.addConstrs((n[c,p] == sum(x[c][p,:]) for c in C for p in P))\n",
    "    m.addConstrs((sum(n[:,p]) <= party_seats[p] for p in P))\n",
    "    m.addConstrs((sum(n[c,:]) == const_seats[c] for c in C))\n",
    "    obj = gp.LinExpr()\n",
    "    for c in C:\n",
    "        for s in S[c]:\n",
    "            a = np.log(np.maximum(1,votes[c,:])/div[s])\n",
    "            obj.add(gp.LinExpr((a[p], x[c][p,s]) for p in P))\n",
    "    m.setObjective(obj, sense=gp.GRB.MAXIMIZE)\n",
    "    m.setParam( 'OutputFlag', False)\n",
    "    m.optimize()\n",
    "    n = n.X.astype(int)\n",
    "    return n\n",
    "\n",
    "SL_div = np.arange(1, 2*max(party_seats)+1, 2)\n",
    "half_seats = [l//2 for l in land_seats]\n",
    "lp_seats = gurobi_max(votes, land_seats, party_seats, SL_div)\n",
    "lp_nat_seats = gurobi_max(votes, half_seats, party_seats, SL_div)"
   ]
  },
  {
   "cell_type": "code",
   "execution_count": 5,
   "outputs": [
    {
     "name": "stdout",
     "output_type": "stream",
     "text": [
      "47.2 ms ± 4.25 ms per loop (mean ± std. dev. of 5 runs, 20 loops each)\n"
     ]
    }
   ],
   "source": [
    "%timeit -n20 -r5 gurobi_max(votes, land_seats, party_seats, SL_div)"
   ],
   "metadata": {
    "collapsed": false
   }
  },
  {
   "cell_type": "code",
   "execution_count": 6,
   "id": "80840774-1b6a-4a8e-9c29-0e1b3b79a829",
   "metadata": {},
   "outputs": [],
   "source": [
    "def entropy(votes, seats, div):\n",
    "    (m,n) = votes.shape\n",
    "    C = range(m)\n",
    "    P = range(n)\n",
    "    summa = 0\n",
    "    for c in C:\n",
    "        for p in P:\n",
    "            for s in range(seats[c,p]):\n",
    "                summa += np.log(np.maximum(1, votes[c,p])/div[s])\n",
    "    return summa"
   ]
  },
  {
   "cell_type": "code",
   "execution_count": 18,
   "id": "651a5fdd-0361-424c-a49b-62a2c6bc8cd7",
   "metadata": {},
   "outputs": [
    {
     "name": "stdout",
     "output_type": "stream",
     "text": [
      "4\n"
     ]
    },
    {
     "ename": "KeyboardInterrupt",
     "evalue": "",
     "output_type": "error",
     "traceback": [
      "\u001B[0;31m---------------------------------------------------------------------------\u001B[0m",
      "\u001B[0;31mKeyboardInterrupt\u001B[0m                         Traceback (most recent call last)",
      "Input \u001B[0;32mIn [18]\u001B[0m, in \u001B[0;36m<cell line: 16>\u001B[0;34m()\u001B[0m\n\u001B[1;32m     14\u001B[0m nat_seats \u001B[38;5;241m=\u001B[39m \u001B[38;5;28msum\u001B[39m(land_seats) \u001B[38;5;241m-\u001B[39m \u001B[38;5;28msum\u001B[39m(half_seats)\n\u001B[1;32m     15\u001B[0m altscal_seats \u001B[38;5;241m=\u001B[39m altscaling(votes, land_seats, party_seats, \u001B[38;5;241m0\u001B[39m)\n\u001B[0;32m---> 16\u001B[0m altscal_nat_seats \u001B[38;5;241m=\u001B[39m \u001B[43maltscaling\u001B[49m\u001B[43m(\u001B[49m\u001B[43mvotes\u001B[49m\u001B[43m,\u001B[49m\u001B[43m \u001B[49m\u001B[43mhalf_seats\u001B[49m\u001B[43m,\u001B[49m\u001B[43m \u001B[49m\u001B[43mparty_seats\u001B[49m\u001B[43m,\u001B[49m\u001B[43m \u001B[49m\u001B[43mnat_seats\u001B[49m\u001B[43m)\u001B[49m\n",
      "Input \u001B[0;32mIn [18]\u001B[0m, in \u001B[0;36maltscaling\u001B[0;34m(votes, land_seats, party_seats, nat_seats)\u001B[0m\n\u001B[1;32m      8\u001B[0m \u001B[38;5;28;01mdef\u001B[39;00m \u001B[38;5;21maltscaling\u001B[39m(votes, land_seats, party_seats, nat_seats):\n\u001B[1;32m      9\u001B[0m     prior_alloc \u001B[38;5;241m=\u001B[39m np\u001B[38;5;241m.\u001B[39mzeros(votes\u001B[38;5;241m.\u001B[39mshape, \u001B[38;5;28mint\u001B[39m)\n\u001B[0;32m---> 10\u001B[0m     seats, _ \u001B[38;5;241m=\u001B[39m \u001B[43malt_scaling\u001B[49m\u001B[43m(\u001B[49m\u001B[43mvotes\u001B[49m\u001B[43m,\u001B[49m\u001B[43m \u001B[49m\u001B[43mland_seats\u001B[49m\u001B[43m,\u001B[49m\u001B[43m \u001B[49m\u001B[43mparty_seats\u001B[49m\u001B[43m,\u001B[49m\u001B[43m \u001B[49m\u001B[43mprior_alloc\u001B[49m\u001B[43m,\u001B[49m\n\u001B[1;32m     11\u001B[0m \u001B[43m                           \u001B[49m\u001B[43msainte_lague_gen\u001B[49m\u001B[43m,\u001B[49m\u001B[43m \u001B[49m\u001B[38;5;28;43;01mNone\u001B[39;49;00m\u001B[43m)\u001B[49m\n\u001B[1;32m     12\u001B[0m     \u001B[38;5;28;01mreturn\u001B[39;00m np\u001B[38;5;241m.\u001B[39marray(seats)\n",
      "File \u001B[0;32m~/voting/backend/methods/alternating_scaling.py:51\u001B[0m, in \u001B[0;36malt_scaling\u001B[0;34m(m_votes, v_desired_row_sums, v_desired_col_sums, m_prior_allocations, divisor_gen, nat_prior_allocations, **kwargs)\u001B[0m\n\u001B[1;32m     49\u001B[0m \u001B[38;5;28;01mif\u001B[39;00m nat_list_has_seats_to_allocate :\n\u001B[1;32m     50\u001B[0m     p_alloc \u001B[38;5;241m=\u001B[39m x[:\u001B[38;5;241m-\u001B[39m\u001B[38;5;241m1\u001B[39m]\u001B[38;5;241m.\u001B[39msum(axis\u001B[38;5;241m=\u001B[39m\u001B[38;5;241m0\u001B[39m)\n\u001B[0;32m---> 51\u001B[0m     x[\u001B[38;5;241m-\u001B[39m\u001B[38;5;241m1\u001B[39m,:] \u001B[38;5;241m=\u001B[39m [\u001B[38;5;28mmax\u001B[39m(\u001B[38;5;241m0\u001B[39m, x)\u001B[38;5;241m+\u001B[39my \u001B[38;5;28;01mfor\u001B[39;00m x,y \u001B[38;5;129;01min\u001B[39;00m \u001B[38;5;28;43mzip\u001B[39;49m\u001B[43m(\u001B[49m\u001B[43mc\u001B[49m\u001B[43m \u001B[49m\u001B[38;5;241;43m-\u001B[39;49m\u001B[43m \u001B[49m\u001B[43mp_alloc\u001B[49m\u001B[43m,\u001B[49m\u001B[43m \u001B[49m\u001B[43mnat_prior_allocations\u001B[49m\u001B[43m)\u001B[49m]\n\u001B[1;32m     52\u001B[0m \u001B[38;5;28;01mif\u001B[39;00m \u001B[38;5;28miter\u001B[39m \u001B[38;5;241m>\u001B[39m \u001B[38;5;241m1\u001B[39m \u001B[38;5;129;01mand\u001B[39;00m np\u001B[38;5;241m.\u001B[39marray_equal(x, y):\n\u001B[1;32m     53\u001B[0m     \u001B[38;5;28;01mbreak\u001B[39;00m\n",
      "File \u001B[0;32m_pydevd_bundle/pydevd_cython_darwin_310_64.pyx:1179\u001B[0m, in \u001B[0;36m_pydevd_bundle.pydevd_cython_darwin_310_64.SafeCallWrapper.__call__\u001B[0;34m()\u001B[0m\n",
      "File \u001B[0;32m_pydevd_bundle/pydevd_cython_darwin_310_64.pyx:620\u001B[0m, in \u001B[0;36m_pydevd_bundle.pydevd_cython_darwin_310_64.PyDBFrame.trace_dispatch\u001B[0;34m()\u001B[0m\n",
      "File \u001B[0;32m_pydevd_bundle/pydevd_cython_darwin_310_64.pyx:1095\u001B[0m, in \u001B[0;36m_pydevd_bundle.pydevd_cython_darwin_310_64.PyDBFrame.trace_dispatch\u001B[0;34m()\u001B[0m\n",
      "File \u001B[0;32m_pydevd_bundle/pydevd_cython_darwin_310_64.pyx:1088\u001B[0m, in \u001B[0;36m_pydevd_bundle.pydevd_cython_darwin_310_64.PyDBFrame.trace_dispatch\u001B[0;34m()\u001B[0m\n",
      "File \u001B[0;32m_pydevd_bundle/pydevd_cython_darwin_310_64.pyx:317\u001B[0m, in \u001B[0;36m_pydevd_bundle.pydevd_cython_darwin_310_64.PyDBFrame.do_wait_suspend\u001B[0;34m()\u001B[0m\n",
      "File \u001B[0;32m/Applications/PyCharm.app/Contents/plugins/python/helpers/pydev/pydevd.py:1160\u001B[0m, in \u001B[0;36mPyDB.do_wait_suspend\u001B[0;34m(self, thread, frame, event, arg, send_suspend_message, is_unhandled_exception)\u001B[0m\n\u001B[1;32m   1157\u001B[0m         from_this_thread\u001B[38;5;241m.\u001B[39mappend(frame_id)\n\u001B[1;32m   1159\u001B[0m \u001B[38;5;28;01mwith\u001B[39;00m \u001B[38;5;28mself\u001B[39m\u001B[38;5;241m.\u001B[39m_threads_suspended_single_notification\u001B[38;5;241m.\u001B[39mnotify_thread_suspended(thread_id, stop_reason):\n\u001B[0;32m-> 1160\u001B[0m     \u001B[38;5;28;43mself\u001B[39;49m\u001B[38;5;241;43m.\u001B[39;49m\u001B[43m_do_wait_suspend\u001B[49m\u001B[43m(\u001B[49m\u001B[43mthread\u001B[49m\u001B[43m,\u001B[49m\u001B[43m \u001B[49m\u001B[43mframe\u001B[49m\u001B[43m,\u001B[49m\u001B[43m \u001B[49m\u001B[43mevent\u001B[49m\u001B[43m,\u001B[49m\u001B[43m \u001B[49m\u001B[43marg\u001B[49m\u001B[43m,\u001B[49m\u001B[43m \u001B[49m\u001B[43msuspend_type\u001B[49m\u001B[43m,\u001B[49m\u001B[43m \u001B[49m\u001B[43mfrom_this_thread\u001B[49m\u001B[43m)\u001B[49m\n",
      "File \u001B[0;32m/Applications/PyCharm.app/Contents/plugins/python/helpers/pydev/pydevd.py:1175\u001B[0m, in \u001B[0;36mPyDB._do_wait_suspend\u001B[0;34m(self, thread, frame, event, arg, suspend_type, from_this_thread)\u001B[0m\n\u001B[1;32m   1172\u001B[0m             \u001B[38;5;28mself\u001B[39m\u001B[38;5;241m.\u001B[39m_call_mpl_hook()\n\u001B[1;32m   1174\u001B[0m         \u001B[38;5;28mself\u001B[39m\u001B[38;5;241m.\u001B[39mprocess_internal_commands()\n\u001B[0;32m-> 1175\u001B[0m         \u001B[43mtime\u001B[49m\u001B[38;5;241;43m.\u001B[39;49m\u001B[43msleep\u001B[49m\u001B[43m(\u001B[49m\u001B[38;5;241;43m0.01\u001B[39;49m\u001B[43m)\u001B[49m\n\u001B[1;32m   1177\u001B[0m \u001B[38;5;28mself\u001B[39m\u001B[38;5;241m.\u001B[39mcancel_async_evaluation(get_current_thread_id(thread), \u001B[38;5;28mstr\u001B[39m(\u001B[38;5;28mid\u001B[39m(frame)))\n\u001B[1;32m   1179\u001B[0m \u001B[38;5;66;03m# process any stepping instructions\u001B[39;00m\n",
      "\u001B[0;31mKeyboardInterrupt\u001B[0m: "
     ]
    }
   ],
   "source": [
    "import sys\n",
    "sys.path.append('/Users/jonasson/voting/backend')\n",
    "sys.path.append('/Users/jonasson/voting/backend/methods')\n",
    "from alternating_scaling import alt_scaling\n",
    "from division_rules import sainte_lague_gen\n",
    "print(2+2)\n",
    "\n",
    "def altscaling(votes, land_seats, party_seats, nat_seats):\n",
    "    prior_alloc = np.zeros(votes.shape, int)\n",
    "    seats, _ = alt_scaling(votes, land_seats, party_seats, prior_alloc,\n",
    "                           sainte_lague_gen, None)\n",
    "    return np.array(seats)\n",
    "\n",
    "nat_seats = sum(land_seats) - sum(half_seats)\n",
    "altscal_seats = altscaling(votes, land_seats, party_seats, 0)\n",
    "altscal_nat_seats = altscaling(votes, half_seats, party_seats, nat_seats)"
   ]
  },
  {
   "cell_type": "code",
   "execution_count": null,
   "outputs": [],
   "source": [
    "%timeit -n20 -r5 altscaling(votes, land_seats, party_seats)"
   ],
   "metadata": {
    "collapsed": false
   }
  },
  {
   "cell_type": "code",
   "execution_count": 117,
   "outputs": [
    {
     "name": "stdout",
     "output_type": "stream",
     "text": [
      "[126 168  70  77  31  95  30   1   0]\n",
      "[126 168  70  77  31  95  30   1   0]\n",
      "6828.838634270492\n",
      "6828.838634270492\n",
      "3549.0747124969107\n",
      "3549.0747124969107\n"
     ]
    }
   ],
   "source": [
    "print(sum(lp_seats))\n",
    "print(sum(altscal_seats))\n",
    "print(entropy(votes, altscal_seats, SL_div))\n",
    "print(entropy(votes, lp_seats, SL_div))\n",
    "print(entropy(votes, altscal_nat_seats, SL_div))\n",
    "print(entropy(votes, lp_nat_seats, SL_div))"
   ],
   "metadata": {
    "collapsed": false
   }
  },
  {
   "cell_type": "code",
   "execution_count": null,
   "outputs": [],
   "source": [],
   "metadata": {
    "collapsed": false
   }
  }
 ],
 "metadata": {
  "kernelspec": {
   "display_name": "Python 3 (ipykernel)",
   "language": "python",
   "name": "python3"
  },
  "language_info": {
   "codemirror_mode": {
    "name": "ipython",
    "version": 3
   },
   "file_extension": ".py",
   "mimetype": "text/x-python",
   "name": "python",
   "nbconvert_exporter": "python",
   "pygments_lexer": "ipython3",
   "version": "3.10.4"
  }
 },
 "nbformat": 4,
 "nbformat_minor": 5
}
